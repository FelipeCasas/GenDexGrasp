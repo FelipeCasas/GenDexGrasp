{
 "cells": [
  {
   "cell_type": "code",
   "execution_count": null,
   "id": "bfecfdca",
   "metadata": {},
   "outputs": [],
   "source": [
    "import os\n",
    "import json\n",
    "import numpy as np\n",
    "import torch"
   ]
  },
  {
   "cell_type": "markdown",
   "id": "15a6a482",
   "metadata": {},
   "source": [
    "# Meta Info"
   ]
  },
  {
   "cell_type": "code",
   "execution_count": null,
   "id": "2f074c20",
   "metadata": {},
   "outputs": [],
   "source": [
    "base_grasps_path = '/home/felipe/Downloads/fullrobots-sharp_lift_numg_64/'\n",
    "\n",
    "result_folder = \"/home/felipe/Documents/GenDexGrasp/results/ablations_fullrobots_numg64_penw60\"\n",
    "\n",
    "results_file = \"sh12.json\"\n",
    "\n",
    "results_path = os.path.join(result_folder, results_file)\n",
    "\n",
    "with open(results_path, \"r\") as jf:\n",
    "    results = json.load(jf)\n",
    "\n",
    "object_list = results.keys()\n",
    "print(object_list)"
   ]
  },
  {
   "cell_type": "code",
   "execution_count": null,
   "id": "1ca40589",
   "metadata": {},
   "outputs": [],
   "source": [
    "gripper_name = None\n",
    "if 'bh' in results_file:\n",
    "    gripper_name = 'barrett'\n",
    "elif 'ez' in results_file:\n",
    "    gripper_name = 'ezgripper'\n",
    "elif 'sh' in results_file:\n",
    "    gripper_name = 'shadowhand'\n",
    "\n",
    "print(\"Computing metrics for gripper:\", gripper_name)\n",
    "\n",
    "grasps_path = os.path.join(base_grasps_path, \"ood\", gripper_name)\n",
    "print(\"Grasps Path (Dir for per-object grasp opt results):\\n\", grasps_path)"
   ]
  },
  {
   "cell_type": "markdown",
   "id": "91984c84",
   "metadata": {},
   "source": [
    "# Success Rate"
   ]
  },
  {
   "cell_type": "code",
   "execution_count": null,
   "id": "a5b87deb",
   "metadata": {},
   "outputs": [],
   "source": [
    "total_grasps = 0\n",
    "total_success = 0\n",
    "for obj in object_list:\n",
    "    #print(obj)\n",
    "    if obj == 'cfg' or obj =='adam_cfg':\n",
    "        continue\n",
    "    try:\n",
    "        tmp_n = results[obj]['total_num'] \n",
    "        tmp_s = results[obj]['succ_num']\n",
    "        print(f\"Object {obj} success_rate = \", round((tmp_s/tmp_n),2))\n",
    "        total_grasps+=tmp_n\n",
    "        total_success+=tmp_s\n",
    "    except:\n",
    "        print(f\"WARNING: Object {obj} result values were not found\")\n",
    "        \n",
    "print('\\n',f\"Total Grasps = {total_grasps}\")\n",
    "print(f\" Total Successful Grasps = {total_success}\")\n",
    "print('\\n',f\"Total Success Rate = {round(total_success/total_grasps,3)}\")\n"
   ]
  },
  {
   "cell_type": "markdown",
   "id": "99c67efa",
   "metadata": {},
   "source": [
    "# Grasp Diversity\n",
    "\n",
    "**Note: check path to grasps file below**"
   ]
  },
  {
   "cell_type": "code",
   "execution_count": null,
   "id": "4b8f2076",
   "metadata": {},
   "outputs": [],
   "source": [
    "grasps = dict()\n",
    "data_listdir = os.listdir(grasps_path)\n",
    "print(data_listdir)"
   ]
  },
  {
   "cell_type": "code",
   "execution_count": null,
   "id": "66b6aaf4",
   "metadata": {},
   "outputs": [],
   "source": [
    "# Populate grasp info\n",
    "for file in data_listdir:\n",
    "    obj_name = file.split('-')[2][:-3]\n",
    "    if obj_name not in object_list:\n",
    "        continue\n",
    "    i_record = torch.load(os.path.join(grasps_path,file))\n",
    "    grasps[obj_name] = i_record['q_data']\n",
    "\n",
    "# print(grasps)"
   ]
  },
  {
   "cell_type": "code",
   "execution_count": null,
   "id": "fd744190",
   "metadata": {},
   "outputs": [],
   "source": [
    "successful_grasps = []\n",
    "for obj in object_list:\n",
    "    if obj == 'cfg' or obj =='adam_cfg':\n",
    "        continue\n",
    "    flags = np.asarray(results[obj]['succ_flag'])\n",
    "    tmp_s = np.asarray(grasps[obj].cpu())\n",
    "    succ_grasps = tmp_s[flags][:,9:] # Remove the translation and orientation\n",
    "    #print(succ_grasps.shape, len(successful_grasps))\n",
    "    if len(successful_grasps)==0:\n",
    "        successful_grasps = succ_grasps\n",
    "    else:\n",
    "        successful_grasps = np.concatenate((successful_grasps,succ_grasps),axis =0)\n",
    "print(successful_grasps[0])"
   ]
  },
  {
   "cell_type": "markdown",
   "id": "8d39c8bc",
   "metadata": {},
   "source": [
    "## Diversity Results"
   ]
  },
  {
   "cell_type": "code",
   "execution_count": null,
   "id": "4b3dae9d",
   "metadata": {},
   "outputs": [],
   "source": [
    "std = np.std(successful_grasps)\n",
    "std_q = np.std(successful_grasps, axis=0)\n",
    "print(\"Grasp Diversity Metric for individual DoFs:\", std_q)\n",
    "\n",
    "# This is incorrect!! We should take RMSE for across all joints\n",
    "print(\"Grasp Diversity Metric for all DoFs:\", round(std,2))\n"
   ]
  },
  {
   "cell_type": "code",
   "execution_count": null,
   "id": "1d33cdc5",
   "metadata": {},
   "outputs": [],
   "source": [
    "# First Get the Variances -> hat(V) -> hat(s)\n",
    "# Basicall RMSE -- root mean square\n",
    "print(\"Mean of std_q:\", np.mean(std_q))\n",
    "print(\"RMSE of std_q:\", np.sqrt(np.mean(std_q**2)))"
   ]
  },
  {
   "cell_type": "code",
   "execution_count": null,
   "id": "70182c81",
   "metadata": {},
   "outputs": [],
   "source": []
  }
 ],
 "metadata": {
  "kernelspec": {
   "display_name": "Python 3 (ipykernel)",
   "language": "python",
   "name": "python3"
  },
  "language_info": {
   "codemirror_mode": {
    "name": "ipython",
    "version": 3
   },
   "file_extension": ".py",
   "mimetype": "text/x-python",
   "name": "python",
   "nbconvert_exporter": "python",
   "pygments_lexer": "ipython3",
   "version": "3.8.13"
  }
 },
 "nbformat": 4,
 "nbformat_minor": 5
}
